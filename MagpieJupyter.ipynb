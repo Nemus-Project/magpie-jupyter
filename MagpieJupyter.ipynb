{
 "cells": [
  {
   "cell_type": "markdown",
   "id": "8d7cbf5d",
   "metadata": {},
   "source": [
    "# Magpie Jupyter\n",
    "\n",
    "## Parameters\n",
    "\n",
    "### Dimensions\n",
    "\n",
    "Width and Length of the plate are changed with the $X$ and $Y$ variables.\n",
    "\n",
    "### Boundary Conditions\n",
    "\n",
    "There are two elastic boundary constants per side and can be grouped into two types:\n",
    "\n",
    "- Transversal $K$ constants:\n",
    "    - $K_{x0}$, $K_{0y}$, $K_{xL}$, $K_{Ly}$\n",
    "- Rotational $R$ constants:\n",
    "    - $R_{x0}$, $R_{0y}$, $R_{xL}$, $R_{Ly}$\n",
    "\n",
    "Increasing $K$ brings the boundary closer to a classic \"simply supported\" condition. Increasing both $K$ and $R$ constants would be similar to a \"clamped\" condition.\n",
    "\n",
    "### Material Properties\n",
    "\n",
    "Change material proeperties with the drop down menu or click the checkbox to enter then manually.\n",
    "\n",
    "### Accuracy\n",
    "\n",
    "The `Accuracy` parameter changes the resolution of the plate. A highe accuracy will lead to mor accurate results and greter resolution image output, however, the trade-off is that calculations will take longer.\n",
    "\n",
    "It is recommend to first explore modes and and mode shapes with low accuracy, after which you can increase once the desire mode shapes have been found."
   ]
  },
  {
   "cell_type": "code",
   "execution_count": null,
   "id": "4ff2574c",
   "metadata": {},
   "outputs": [],
   "source": [
    "from MagpieInterface import MagpieInterface\n",
    "\n",
    "magpie_plot = MagpieInterface()\n",
    "magpie_plot.show()"
   ]
  }
 ],
 "metadata": {
  "kernelspec": {
   "display_name": "Python 3 (ipykernel)",
   "language": "python",
   "name": "python3"
  },
  "language_info": {
   "codemirror_mode": {
    "name": "ipython",
    "version": 3
   },
   "file_extension": ".py",
   "mimetype": "text/x-python",
   "name": "python",
   "nbconvert_exporter": "python",
   "pygments_lexer": "ipython3",
   "version": "3.11.5"
  }
 },
 "nbformat": 4,
 "nbformat_minor": 5
}
