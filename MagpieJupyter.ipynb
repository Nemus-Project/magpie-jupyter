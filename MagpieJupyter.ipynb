{
 "cells": [
  {
   "cell_type": "markdown",
   "id": "8d7cbf5d",
   "metadata": {},
   "source": [
    "# Magpie Jupyter\n",
    "\n",
    "## Parameters\n",
    "\n",
    "### Dimensions\n",
    "\n",
    "Width and Length of the plate are changed with the $X$ and $Y$ variables.\n",
    "\n",
    "### Boundary Conditions\n",
    "\n",
    "There are two elastic boundary constants per side and can be grouped into two types:\n",
    "\n",
    "- Transversal $K$ constants:\n",
    "    - $K_{x0}$, $K_{0y}$, $K_{xL}$, $K_{Ly}$\n",
    "- Rotational $R$ constants:\n",
    "    - $R_{x0}$, $R_{0y}$, $R_{xL}$, $R_{Ly}$\n",
    "\n",
    "Increasing $K$ brings the boundary closer to a classic \"simply supported\" condition. Increasing both $K$ and $R$ constants would be similar to a \"clamped\" condition.\n",
    "\n",
    "### Material Properties\n",
    "\n",
    "Change material proeperties with the drop down menu or click the checkbox to enter then manually.\n",
    "\n",
    "### Accuracy\n",
    "\n",
    "The `Accuracy` parameter changes the resolution of the plate. A highe accuracy will lead to mor accurate results and greter resolution image output, however, the trade-off is that calculations will take longer.\n",
    "\n",
    "It is recommend to first explore modes and and mode shapes with low accuracy, after which you can increase once the desire mode shapes have been found."
   ]
  },
  {
   "cell_type": "code",
   "execution_count": 1,
   "id": "4ff2574c",
   "metadata": {
    "scrolled": false
   },
   "outputs": [
    {
     "data": {
      "application/vnd.jupyter.widget-view+json": {
       "model_id": "7eb74146e8a34e66b47ea90f50e8a656",
       "version_major": 2,
       "version_minor": 0
      },
      "text/plain": [
       "VBox(children=(VBox(children=(Box(children=(Label(value='Dimensions:', layout=Layout(flex='1 1 auto')), Bounde…"
      ]
     },
     "metadata": {},
     "output_type": "display_data"
    }
   ],
   "source": [
    "from MagpieInterface import MagpieInterface, DownloadButton\n",
    "\n",
    "magpie_plot = MagpieInterface()\n",
    "magpie_plot.show()\n"
   ]
  },
  {
   "cell_type": "code",
   "execution_count": 2,
   "id": "cd62de8b",
   "metadata": {
    "scrolled": false
   },
   "outputs": [
    {
     "data": {
      "application/vnd.jupyter.widget-view+json": {
       "model_id": "78faeef0a5c641598a2850d612a2336b",
       "version_major": 2,
       "version_minor": 0
      },
      "text/plain": [
       "DownloadButton(description='Download Shape', style=ButtonStyle())"
      ]
     },
     "execution_count": 2,
     "metadata": {},
     "output_type": "execute_result"
    }
   ],
   "source": [
    "magpie_plot.download"
   ]
  },
  {
   "cell_type": "code",
   "execution_count": 3,
   "id": "2ed322c1",
   "metadata": {},
   "outputs": [
    {
     "data": {
      "application/vnd.jupyter.widget-view+json": {
       "model_id": "db2100b973534d53a8f25ce4a6e0b8f6",
       "version_major": 2,
       "version_minor": 0
      },
      "text/plain": [
       "DownloadButton(description='Download', style=ButtonStyle())"
      ]
     },
     "execution_count": 3,
     "metadata": {},
     "output_type": "execute_result"
    }
   ],
   "source": [
    "import base64\n",
    "import hashlib\n",
    "from typing import Callable\n",
    "\n",
    "import ipywidgets\n",
    "from IPython.display import HTML, display\n",
    "import time\n",
    "\n",
    "class DownloadButton(ipywidgets.Button):\n",
    "    \"\"\"Download button with dynamic content\n",
    "\n",
    "    The content is generated using a callback when the button is clicked.\n",
    "    \"\"\"\n",
    "\n",
    "    def __init__(self, filename: str, contents: Callable[[], str], **kwargs):\n",
    "        super(DownloadButton, self).__init__(**kwargs)\n",
    "        self.filename = filename\n",
    "        self.contents = contents\n",
    "        self.on_click(self.__on_click)\n",
    "\n",
    "    def __on_click(self, b):\n",
    "        contents: bytes = self.contents().encode('utf-8')\n",
    "        b64 = base64.b64encode(contents)\n",
    "        payload = b64.decode()\n",
    "        digest = hashlib.md5(contents).hexdigest()  # bypass browser cache\n",
    "        id = f'dl_{digest}'\n",
    "\n",
    "        display(HTML(f\"\"\"\n",
    "<html>\n",
    "<body>\n",
    "<a id=\"{id}\" download=\"{self.filename}\" href=\"data:text/csv;base64,{payload}\" download>\n",
    "</a>\n",
    "\n",
    "<script>\n",
    "(function download() {{\n",
    "document.getElementById('{id}').click();\n",
    "}})()\n",
    "</script>\n",
    "\n",
    "</body>\n",
    "</html>\n",
    "\"\"\"))\n",
    "        \n",
    "\n",
    "        \n",
    "\n",
    "DownloadButton(filename=f'{magpie_plot.get_current_mode_freq_hz():.2f}_Hz_Shape.csv', \n",
    "               contents=lambda: pd.DataFrame(magpie_plot.get_current_mode_shape()).to_csv(header=True), \n",
    "               description='Download')"
   ]
  }
 ],
 "metadata": {
  "kernelspec": {
   "display_name": "Python 3 (ipykernel)",
   "language": "python",
   "name": "python3"
  },
  "language_info": {
   "codemirror_mode": {
    "name": "ipython",
    "version": 3
   },
   "file_extension": ".py",
   "mimetype": "text/x-python",
   "name": "python",
   "nbconvert_exporter": "python",
   "pygments_lexer": "ipython3",
   "version": "3.11.5"
  }
 },
 "nbformat": 4,
 "nbformat_minor": 5
}
